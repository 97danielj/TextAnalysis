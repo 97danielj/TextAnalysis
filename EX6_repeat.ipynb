{
 "cells": [
  {
   "cell_type": "markdown",
   "id": "703eff51",
   "metadata": {},
   "source": [
    "DictVectorizer = > BOW 인코딩 벡터"
   ]
  },
  {
   "cell_type": "code",
   "execution_count": 1,
   "id": "709b7a1f",
   "metadata": {},
   "outputs": [],
   "source": [
    "from sklearn.feature_extraction import DictVectorizer"
   ]
  },
  {
   "cell_type": "code",
   "execution_count": 4,
   "id": "b89cfd24",
   "metadata": {},
   "outputs": [
    {
     "name": "stdout",
     "output_type": "stream",
     "text": [
      "[[1. 2. 0.]\n",
      " [0. 3. 1.]]\n",
      "<class 'numpy.ndarray'>\n"
     ]
    }
   ],
   "source": [
    "v = DictVectorizer(sparse=False)\n",
    "D=[{'A':1,'B':2},{'B':3,'C':1}] #중괄호는 하나의 문장, 하나의 문장의 키값은 단어\n",
    "# 3종 단어롤 이루어진다. 벡터의 차원의 3. 각 단어는 인덱스를 나타내고 인덱스의 값은 그 단어의 빈도수\n",
    "#각 단어의 빈도수를 미리 알아야 사용가능\n",
    "X = v.fit_transform(D)\n",
    "print(X)\n",
    "print(type(X))"
   ]
  },
  {
   "cell_type": "code",
   "execution_count": 5,
   "id": "23e3d79b",
   "metadata": {},
   "outputs": [
    {
     "data": {
      "text/plain": [
       "['A', 'B', 'C']"
      ]
     },
     "execution_count": 5,
     "metadata": {},
     "output_type": "execute_result"
    }
   ],
   "source": [
    "v.feature_names_"
   ]
  },
  {
   "cell_type": "code",
   "execution_count": 6,
   "id": "507ed124",
   "metadata": {},
   "outputs": [],
   "source": [
    "D2 = {'A':5, 'B':1,\"D\":100}"
   ]
  },
  {
   "cell_type": "code",
   "execution_count": 7,
   "id": "08febae3",
   "metadata": {},
   "outputs": [
    {
     "data": {
      "text/plain": [
       "array([[5., 1., 0.]])"
      ]
     },
     "execution_count": 7,
     "metadata": {},
     "output_type": "execute_result"
    }
   ],
   "source": [
    "v.transform(D2)"
   ]
  },
  {
   "cell_type": "markdown",
   "id": "c32f780d",
   "metadata": {},
   "source": [
    "CounterVectorizer => BOW 인코딩 벡터 문서의 집합-> 단어토큰생성-> 각단어의 수"
   ]
  },
  {
   "cell_type": "code",
   "execution_count": 8,
   "id": "9a57d2a3",
   "metadata": {},
   "outputs": [],
   "source": [
    "from sklearn.feature_extraction.text import CountVectorizer"
   ]
  },
  {
   "cell_type": "code",
   "execution_count": 9,
   "id": "6830377a",
   "metadata": {},
   "outputs": [],
   "source": [
    "corpus = [\n",
    "    'This is the first document.',\n",
    "    'This is the second second document.',\n",
    "    'And the third one.',\n",
    "    'Is this the first document?',\n",
    "    'The last document?',\n",
    "]"
   ]
  },
  {
   "cell_type": "code",
   "execution_count": 12,
   "id": "8a064a69",
   "metadata": {},
   "outputs": [
    {
     "data": {
      "text/plain": [
       "{'this': 9,\n",
       " 'is': 3,\n",
       " 'the': 7,\n",
       " 'first': 2,\n",
       " 'document': 1,\n",
       " 'second': 6,\n",
       " 'and': 0,\n",
       " 'third': 8,\n",
       " 'one': 5,\n",
       " 'last': 4}"
      ]
     },
     "execution_count": 12,
     "metadata": {},
     "output_type": "execute_result"
    }
   ],
   "source": [
    "v1=CountVectorizer()\n",
    "#문장 토큰화가 완료되어야 한다.\n",
    "v1.fit(corpus)\n",
    "v1.vocabulary_"
   ]
  },
  {
   "cell_type": "code",
   "execution_count": 14,
   "id": "c9b3123b",
   "metadata": {},
   "outputs": [
    {
     "data": {
      "text/plain": [
       "array([[0, 1, 1, 2, 0, 0, 0, 2, 0, 2]], dtype=int64)"
      ]
     },
     "execution_count": 14,
     "metadata": {},
     "output_type": "execute_result"
    }
   ],
   "source": [
    "v1.transform(['This is the first document. This is the man']).toarray()"
   ]
  },
  {
   "cell_type": "code",
   "execution_count": null,
   "id": "2b46e023",
   "metadata": {},
   "outputs": [],
   "source": []
  }
 ],
 "metadata": {
  "kernelspec": {
   "display_name": "Python 3 (ipykernel)",
   "language": "python",
   "name": "python3"
  },
  "language_info": {
   "codemirror_mode": {
    "name": "ipython",
    "version": 3
   },
   "file_extension": ".py",
   "mimetype": "text/x-python",
   "name": "python",
   "nbconvert_exporter": "python",
   "pygments_lexer": "ipython3",
   "version": "3.9.7"
  }
 },
 "nbformat": 4,
 "nbformat_minor": 5
}
