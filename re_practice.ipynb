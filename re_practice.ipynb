{
 "cells": [
  {
   "cell_type": "code",
   "execution_count": 1,
   "id": "d36a0177",
   "metadata": {},
   "outputs": [],
   "source": [
    "import re"
   ]
  },
  {
   "cell_type": "code",
   "execution_count": 2,
   "id": "48aba1b7",
   "metadata": {},
   "outputs": [],
   "source": [
    "r = re.compile('d.t')\n",
    "r.search('ggg')"
   ]
  },
  {
   "cell_type": "code",
   "execution_count": 6,
   "id": "22c73b6c",
   "metadata": {},
   "outputs": [
    {
     "name": "stdout",
     "output_type": "stream",
     "text": [
      "<re.Match object; span=(0, 3), match='dat'>\n",
      "<re.Match object; span=(0, 3), match='d2t'>\n"
     ]
    }
   ],
   "source": [
    "print(r.search('dat'))\n",
    "print(r.search('d2t'))"
   ]
  },
  {
   "cell_type": "code",
   "execution_count": 7,
   "id": "0f75074b",
   "metadata": {},
   "outputs": [
    {
     "data": {
      "text/plain": [
       "<re.Match object; span=(1, 4), match='ddt'>"
      ]
     },
     "execution_count": 7,
     "metadata": {},
     "output_type": "execute_result"
    }
   ],
   "source": [
    "r.search('fddt')"
   ]
  },
  {
   "cell_type": "markdown",
   "id": "3a3397fd",
   "metadata": {},
   "source": [
    "## '?' 기호"
   ]
  },
  {
   "cell_type": "code",
   "execution_count": 10,
   "id": "f768d371",
   "metadata": {},
   "outputs": [],
   "source": [
    "r = re.compile('d?t')\n",
    "r.search('ggg')"
   ]
  },
  {
   "cell_type": "code",
   "execution_count": 11,
   "id": "8719cf18",
   "metadata": {},
   "outputs": [
    {
     "data": {
      "text/plain": [
       "<re.Match object; span=(2, 3), match='t'>"
      ]
     },
     "execution_count": 11,
     "metadata": {},
     "output_type": "execute_result"
    }
   ],
   "source": [
    "r.search('data')"
   ]
  },
  {
   "cell_type": "code",
   "execution_count": 12,
   "id": "ec3d3893",
   "metadata": {},
   "outputs": [
    {
     "data": {
      "text/plain": [
       "<re.Match object; span=(0, 1), match='t'>"
      ]
     },
     "execution_count": 12,
     "metadata": {},
     "output_type": "execute_result"
    }
   ],
   "source": [
    "r.search('t')"
   ]
  },
  {
   "cell_type": "code",
   "execution_count": 13,
   "id": "ab073aaa",
   "metadata": {},
   "outputs": [
    {
     "data": {
      "text/plain": [
       "<re.Match object; span=(1, 3), match='dt'>"
      ]
     },
     "execution_count": 13,
     "metadata": {},
     "output_type": "execute_result"
    }
   ],
   "source": [
    "r.search('ddt')"
   ]
  },
  {
   "cell_type": "code",
   "execution_count": 22,
   "id": "ced58aa6",
   "metadata": {},
   "outputs": [
    {
     "data": {
      "text/plain": [
       "<re.Match object; span=(0, 3), match='ddt'>"
      ]
     },
     "execution_count": 22,
     "metadata": {},
     "output_type": "execute_result"
    }
   ],
   "source": [
    "r = re.compile('d?t')\n",
    "r.search('data')"
   ]
  },
  {
   "cell_type": "markdown",
   "id": "8a41e614",
   "metadata": {},
   "source": [
    "*기호 - (연결된 문자의 중복 갯수 상관없이 인식)"
   ]
  },
  {
   "cell_type": "code",
   "execution_count": 27,
   "id": "b81b8fac",
   "metadata": {},
   "outputs": [
    {
     "data": {
      "text/plain": [
       "<re.Match object; span=(2, 7), match='dddda'>"
      ]
     },
     "execution_count": 27,
     "metadata": {},
     "output_type": "execute_result"
    }
   ],
   "source": [
    "r = re.compile('dd*a')\n",
    "r.search('asddddadddd')"
   ]
  },
  {
   "cell_type": "markdown",
   "id": "3db12c2c",
   "metadata": {},
   "source": [
    "^기호 - 이후 문자열로 시작되는 문자열 인식"
   ]
  },
  {
   "cell_type": "code",
   "execution_count": 28,
   "id": "51b1eebd",
   "metadata": {},
   "outputs": [
    {
     "data": {
      "text/plain": [
       "<re.Match object; span=(0, 2), match='ab'>"
      ]
     },
     "execution_count": 28,
     "metadata": {},
     "output_type": "execute_result"
    }
   ],
   "source": [
    "r =re.compile('^ab+')\n",
    "r.search('abcccccccc')"
   ]
  },
  {
   "cell_type": "raw",
   "id": "57f8efae",
   "metadata": {},
   "source": [
    "{숫자} 기호 - 입력된 개수만큼 기호 앞문자 반복"
   ]
  },
  {
   "cell_type": "code",
   "execution_count": 31,
   "id": "1b49fbdb",
   "metadata": {},
   "outputs": [
    {
     "data": {
      "text/plain": [
       "<re.Match object; span=(0, 3), match='abb'>"
      ]
     },
     "execution_count": 31,
     "metadata": {},
     "output_type": "execute_result"
    }
   ],
   "source": [
    "r = re.compile('ab{2}c?')\n",
    "r.search('abbbc')"
   ]
  },
  {
   "cell_type": "code",
   "execution_count": 34,
   "id": "f586fb12",
   "metadata": {},
   "outputs": [
    {
     "data": {
      "text/plain": [
       "<re.Match object; span=(0, 6), match='abbbbb'>"
      ]
     },
     "execution_count": 34,
     "metadata": {},
     "output_type": "execute_result"
    }
   ],
   "source": [
    "r = re.compile('ab{2,5}c?')\n",
    "r.search('abbbbbbbbc')"
   ]
  },
  {
   "cell_type": "code",
   "execution_count": 35,
   "id": "9e5796bb",
   "metadata": {},
   "outputs": [
    {
     "data": {
      "text/plain": [
       "<re.Match object; span=(0, 10), match='abbbbbbbbc'>"
      ]
     },
     "execution_count": 35,
     "metadata": {},
     "output_type": "execute_result"
    }
   ],
   "source": [
    "r = re.compile('ab{2,}c')\n",
    "r.search('abbbbbbbbc')"
   ]
  },
  {
   "cell_type": "code",
   "execution_count": 37,
   "id": "dc17cbc3",
   "metadata": {},
   "outputs": [
    {
     "data": {
      "text/plain": [
       "<re.Match object; span=(0, 6), match='abbbbc'>"
      ]
     },
     "execution_count": 37,
     "metadata": {},
     "output_type": "execute_result"
    }
   ],
   "source": [
    "r = re.compile('ab{,5}c')\n",
    "r.search('abbbbc')"
   ]
  },
  {
   "cell_type": "code",
   "execution_count": 38,
   "id": "854fd3ec",
   "metadata": {},
   "outputs": [
    {
     "data": {
      "text/plain": [
       "<re.Match object; span=(2, 3), match='c'>"
      ]
     },
     "execution_count": 38,
     "metadata": {},
     "output_type": "execute_result"
    }
   ],
   "source": [
    "r =re.compile('[abc]')# 한문자이다.\n",
    "r.search('dfca')"
   ]
  },
  {
   "cell_type": "markdown",
   "id": "6b823dca",
   "metadata": {},
   "source": [
    "[^] 기호 - 반전 기호: []내부 제외된 문자를 인식"
   ]
  },
  {
   "cell_type": "code",
   "execution_count": 39,
   "id": "8f09c292",
   "metadata": {},
   "outputs": [
    {
     "data": {
      "text/plain": [
       "<re.Match object; span=(0, 1), match='Y'>"
      ]
     },
     "execution_count": 39,
     "metadata": {},
     "output_type": "execute_result"
    }
   ],
   "source": [
    "r = re.compile('[^a-z]') #반전 포함 문자\n",
    "r.search('Y')"
   ]
  },
  {
   "cell_type": "code",
   "execution_count": 47,
   "id": "a50ab42f",
   "metadata": {},
   "outputs": [
    {
     "data": {
      "text/plain": [
       "['data1', 'data2', 'data3']"
      ]
     },
     "execution_count": 47,
     "metadata": {},
     "output_type": "execute_result"
    }
   ],
   "source": [
    "data = 'data1 data2 data3'\n",
    "re.split(' ',data)"
   ]
  },
  {
   "cell_type": "code",
   "execution_count": 48,
   "id": "20ec398e",
   "metadata": {},
   "outputs": [
    {
     "data": {
      "text/plain": [
       "['1', '2', '3']"
      ]
     },
     "execution_count": 48,
     "metadata": {},
     "output_type": "execute_result"
    }
   ],
   "source": [
    "re.findall('\\d+',data) #리스트 각 원소마다 모두 찾는다."
   ]
  },
  {
   "cell_type": "code",
   "execution_count": 50,
   "id": "2eb7327b",
   "metadata": {},
   "outputs": [
    {
     "data": {
      "text/plain": [
       "'data1수정data2수정data3'"
      ]
     },
     "execution_count": 50,
     "metadata": {},
     "output_type": "execute_result"
    }
   ],
   "source": [
    "re.sub('\\W+','수정',data)"
   ]
  },
  {
   "cell_type": "code",
   "execution_count": 57,
   "id": "43d100e0",
   "metadata": {},
   "outputs": [
    {
     "data": {
      "text/plain": [
       "['His',\n",
       " 'barber',\n",
       " 'kept',\n",
       " 'his',\n",
       " 'word',\n",
       " 'But',\n",
       " 'keeping',\n",
       " 'such',\n",
       " 'a',\n",
       " 'huge',\n",
       " 'secret',\n",
       " 'to',\n",
       " 'himself',\n",
       " 'was',\n",
       " 'driving',\n",
       " 'him',\n",
       " 'crazy',\n",
       " 'Finally',\n",
       " 'the',\n",
       " 'barber',\n",
       " 'went',\n",
       " 'up',\n",
       " 'a',\n",
       " 'mountain',\n",
       " 'and',\n",
       " 'almost',\n",
       " 'to',\n",
       " 'the',\n",
       " 'edge',\n",
       " 'of',\n",
       " 'a',\n",
       " 'cliff',\n",
       " 'He',\n",
       " 'dug',\n",
       " 'a',\n",
       " 'hole',\n",
       " 'in',\n",
       " 'the',\n",
       " 'midst',\n",
       " 'of',\n",
       " 'some',\n",
       " 'reeds',\n",
       " 'He',\n",
       " 'looked',\n",
       " 'about',\n",
       " 'to',\n",
       " 'make',\n",
       " 'sure',\n",
       " 'no',\n",
       " 'one',\n",
       " 'was',\n",
       " 'near']"
      ]
     },
     "execution_count": 57,
     "metadata": {},
     "output_type": "execute_result"
    }
   ],
   "source": [
    "t = \"His barber kept his word. But keeping such a huge secret to himself was driving him crazy. Finally, the barber went up a mountain and almost to the edge of a cliff. He dug a hole in the midst of some reeds. He looked about, to make sure no one was near.\"\n",
    "from nltk.tokenize import RegexpTokenizer\n",
    "ck1=RegexpTokenizer('[\\w]+') #문자기준으로 단어 토큰환\n",
    "ck1.tokenize(t)"
   ]
  },
  {
   "cell_type": "code",
   "execution_count": 58,
   "id": "aaa716f6",
   "metadata": {},
   "outputs": [],
   "source": [
    "ck2 = RegexpTokenizer('\\s+',gaps=True) #공백기준으로"
   ]
  },
  {
   "cell_type": "code",
   "execution_count": 59,
   "id": "a7865781",
   "metadata": {},
   "outputs": [
    {
     "data": {
      "text/plain": [
       "['His',\n",
       " 'barber',\n",
       " 'kept',\n",
       " 'his',\n",
       " 'word.',\n",
       " 'But',\n",
       " 'keeping',\n",
       " 'such',\n",
       " 'a',\n",
       " 'huge',\n",
       " 'secret',\n",
       " 'to',\n",
       " 'himself',\n",
       " 'was',\n",
       " 'driving',\n",
       " 'him',\n",
       " 'crazy.',\n",
       " 'Finally,',\n",
       " 'the',\n",
       " 'barber',\n",
       " 'went',\n",
       " 'up',\n",
       " 'a',\n",
       " 'mountain',\n",
       " 'and',\n",
       " 'almost',\n",
       " 'to',\n",
       " 'the',\n",
       " 'edge',\n",
       " 'of',\n",
       " 'a',\n",
       " 'cliff.',\n",
       " 'He',\n",
       " 'dug',\n",
       " 'a',\n",
       " 'hole',\n",
       " 'in',\n",
       " 'the',\n",
       " 'midst',\n",
       " 'of',\n",
       " 'some',\n",
       " 'reeds.',\n",
       " 'He',\n",
       " 'looked',\n",
       " 'about,',\n",
       " 'to',\n",
       " 'make',\n",
       " 'sure',\n",
       " 'no',\n",
       " 'one',\n",
       " 'was',\n",
       " 'near.']"
      ]
     },
     "execution_count": 59,
     "metadata": {},
     "output_type": "execute_result"
    }
   ],
   "source": [
    "ck2.tokenize(t)"
   ]
  },
  {
   "cell_type": "code",
   "execution_count": null,
   "id": "091b7732",
   "metadata": {},
   "outputs": [],
   "source": []
  }
 ],
 "metadata": {
  "kernelspec": {
   "display_name": "Python 3 (ipykernel)",
   "language": "python",
   "name": "python3"
  },
  "language_info": {
   "codemirror_mode": {
    "name": "ipython",
    "version": 3
   },
   "file_extension": ".py",
   "mimetype": "text/x-python",
   "name": "python",
   "nbconvert_exporter": "python",
   "pygments_lexer": "ipython3",
   "version": "3.9.7"
  }
 },
 "nbformat": 4,
 "nbformat_minor": 5
}
