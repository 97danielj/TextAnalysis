{
 "cells": [
  {
   "cell_type": "code",
   "execution_count": 1,
   "id": "24ee1d3d",
   "metadata": {},
   "outputs": [
    {
     "name": "stderr",
     "output_type": "stream",
     "text": [
      "[nltk_data] Downloading package wordnet to\n",
      "[nltk_data]     C:\\Users\\JSWonner\\AppData\\Roaming\\nltk_data...\n",
      "[nltk_data]   Package wordnet is already up-to-date!\n",
      "[nltk_data] Downloading package stopwords to\n",
      "[nltk_data]     C:\\Users\\JSWonner\\AppData\\Roaming\\nltk_data...\n",
      "[nltk_data]   Package stopwords is already up-to-date!\n",
      "[nltk_data] Downloading package punkt to\n",
      "[nltk_data]     C:\\Users\\JSWonner\\AppData\\Roaming\\nltk_data...\n",
      "[nltk_data]   Package punkt is already up-to-date!\n"
     ]
    },
    {
     "data": {
      "text/plain": [
       "True"
      ]
     },
     "execution_count": 1,
     "metadata": {},
     "output_type": "execute_result"
    }
   ],
   "source": [
    "import nltk\n",
    "nltk.download('wordnet') #단어 어간으로부터의 연결\n",
    "nltk.download('stopwords') #불용어 사전\n",
    "nltk.download('punkt') #문장분리기"
   ]
  },
  {
   "cell_type": "code",
   "execution_count": 3,
   "id": "24d376d2",
   "metadata": {},
   "outputs": [
    {
     "data": {
      "text/plain": [
       "['policy',\n",
       " 'doing',\n",
       " 'organization',\n",
       " 'have',\n",
       " 'going',\n",
       " 'love',\n",
       " 'lives',\n",
       " 'fly',\n",
       " 'dies',\n",
       " 'watched',\n",
       " 'has',\n",
       " 'starting']"
      ]
     },
     "execution_count": 3,
     "metadata": {},
     "output_type": "execute_result"
    }
   ],
   "source": [
    "words = ['policy', 'doing', 'organization', 'have', 'going', 'love', 'lives', 'fly', 'dies', 'watched', 'has', 'starting']\n",
    "words"
   ]
  },
  {
   "cell_type": "code",
   "execution_count": 6,
   "id": "3552db14",
   "metadata": {},
   "outputs": [
    {
     "data": {
      "text/plain": [
       "['policy',\n",
       " 'doing',\n",
       " 'organization',\n",
       " 'have',\n",
       " 'going',\n",
       " 'love',\n",
       " 'life',\n",
       " 'fly',\n",
       " 'dy',\n",
       " 'watched',\n",
       " 'ha',\n",
       " 'starting']"
      ]
     },
     "execution_count": 6,
     "metadata": {},
     "output_type": "execute_result"
    }
   ],
   "source": [
    "from nltk.stem import WordNetLemmatizer #어간 추출 모듈에서 \n",
    "f=WordNetLemmatizer().lemmatize #표제어 추출\n",
    "#표제어 추출(근원)\n",
    "[f(x) for x in words]"
   ]
  },
  {
   "cell_type": "code",
   "execution_count": 9,
   "id": "c97da021",
   "metadata": {},
   "outputs": [
    {
     "data": {
      "text/plain": [
       "'have'"
      ]
     },
     "execution_count": 9,
     "metadata": {},
     "output_type": "execute_result"
    }
   ],
   "source": [
    "f('has','v')"
   ]
  },
  {
   "cell_type": "code",
   "execution_count": 11,
   "id": "e88aaf84",
   "metadata": {},
   "outputs": [
    {
     "data": {
      "text/plain": [
       "'die'"
      ]
     },
     "execution_count": 11,
     "metadata": {},
     "output_type": "execute_result"
    }
   ],
   "source": [
    "f('dies','v')"
   ]
  },
  {
   "cell_type": "code",
   "execution_count": 12,
   "id": "4d56c8e6",
   "metadata": {},
   "outputs": [
    {
     "data": {
      "text/plain": [
       "'watch'"
      ]
     },
     "execution_count": 12,
     "metadata": {},
     "output_type": "execute_result"
    }
   ],
   "source": [
    "f('watched', 'v')"
   ]
  },
  {
   "cell_type": "code",
   "execution_count": 16,
   "id": "7cf5ec3a",
   "metadata": {},
   "outputs": [
    {
     "data": {
      "text/plain": [
       "['I',\n",
       " 'am',\n",
       " 'actively',\n",
       " 'looking',\n",
       " 'for',\n",
       " 'Ph.D.',\n",
       " 'students',\n",
       " '.',\n",
       " 'and',\n",
       " 'you',\n",
       " 'are',\n",
       " 'a',\n",
       " 'Ph.D.',\n",
       " 'student',\n",
       " '.']"
      ]
     },
     "execution_count": 16,
     "metadata": {},
     "output_type": "execute_result"
    }
   ],
   "source": [
    "t1=\"I am actively looking for Ph.D. students. and you are a Ph.D. student.\"\n",
    "from nltk.tokenize import word_tokenize\n",
    "data=word_tokenize(t1)\n",
    "data"
   ]
  },
  {
   "cell_type": "code",
   "execution_count": 17,
   "id": "fcbd14cd",
   "metadata": {},
   "outputs": [
    {
     "data": {
      "text/plain": [
       "['i',\n",
       " 'am',\n",
       " 'activ',\n",
       " 'look',\n",
       " 'for',\n",
       " 'ph.d.',\n",
       " 'student',\n",
       " '.',\n",
       " 'and',\n",
       " 'you',\n",
       " 'are',\n",
       " 'a',\n",
       " 'ph.d.',\n",
       " 'student',\n",
       " '.']"
      ]
     },
     "execution_count": 17,
     "metadata": {},
     "output_type": "execute_result"
    }
   ],
   "source": [
    "from nltk.stem import PorterStemmer #포토 어간 추출 알고리즘\n",
    "f1=PorterStemmer().stem #어간추출기 함수\n",
    "[f1(x) for x  in data]"
   ]
  },
  {
   "cell_type": "code",
   "execution_count": 15,
   "id": "73c8aaa0",
   "metadata": {},
   "outputs": [],
   "source": [
    "from nltk.stem import PorterStemmer\n",
    "from nltk.tokenize import word_tokenize\n",
    "\n",
    "stemmer = PorterStemmer()\n",
    "\n",
    "sentence = \"This was not the map we found in Billy Bones's chest, but an accurate copy, complete in all things--names and heights and soundings--with the single exception of the red crosses and the written notes.\"\n",
    "t_sent = word_tokenize(sentence)"
   ]
  },
  {
   "cell_type": "code",
   "execution_count": 18,
   "id": "e769c3e1",
   "metadata": {},
   "outputs": [
    {
     "name": "stdout",
     "output_type": "stream",
     "text": [
      "어간 추출 전 : ['This', 'was', 'not', 'the', 'map', 'we', 'found', 'in', 'Billy', 'Bones', \"'s\", 'chest', ',', 'but', 'an', 'accurate', 'copy', ',', 'complete', 'in', 'all', 'things', '--', 'names', 'and', 'heights', 'and', 'soundings', '--', 'with', 'the', 'single', 'exception', 'of', 'the', 'red', 'crosses', 'and', 'the', 'written', 'notes', '.']\n",
      "어간 추출 후 : ['thi', 'wa', 'not', 'the', 'map', 'we', 'found', 'in', 'billi', 'bone', \"'s\", 'chest', ',', 'but', 'an', 'accur', 'copi', ',', 'complet', 'in', 'all', 'thing', '--', 'name', 'and', 'height', 'and', 'sound', '--', 'with', 'the', 'singl', 'except', 'of', 'the', 'red', 'cross', 'and', 'the', 'written', 'note', '.']\n"
     ]
    }
   ],
   "source": [
    "print('어간 추출 전 :', t_sent)\n",
    "print('어간 추출 후 :',[stemmer.stem(word) for word in t_sent])"
   ]
  },
  {
   "cell_type": "code",
   "execution_count": 19,
   "id": "e74de8f4",
   "metadata": {},
   "outputs": [],
   "source": [
    "from nltk.stem import PorterStemmer\n",
    "from nltk.stem import LancasterStemmer"
   ]
  },
  {
   "cell_type": "code",
   "execution_count": 20,
   "id": "e7a24e43",
   "metadata": {},
   "outputs": [],
   "source": [
    "f2=PorterStemmer().stem\n",
    "f3=LancasterStemmer().stem"
   ]
  },
  {
   "cell_type": "code",
   "execution_count": 21,
   "id": "665583ab",
   "metadata": {},
   "outputs": [],
   "source": [
    "d1=[f2(x) for x in words]\n",
    "d2=[f3(x) for x in words]"
   ]
  },
  {
   "cell_type": "code",
   "execution_count": 22,
   "id": "e96a8cbb",
   "metadata": {},
   "outputs": [
    {
     "name": "stdout",
     "output_type": "stream",
     "text": [
      "['policy', 'doing', 'organization', 'have', 'going', 'love', 'lives', 'fly', 'dies', 'watched', 'has', 'starting']\n",
      "['polici', 'do', 'organ', 'have', 'go', 'love', 'live', 'fli', 'die', 'watch', 'ha', 'start']\n",
      "['policy', 'doing', 'org', 'hav', 'going', 'lov', 'liv', 'fly', 'die', 'watch', 'has', 'start']\n"
     ]
    }
   ],
   "source": [
    "print(words,d1,d2,sep='\\n')"
   ]
  },
  {
   "cell_type": "code",
   "execution_count": 23,
   "id": "d6901806",
   "metadata": {},
   "outputs": [
    {
     "name": "stdout",
     "output_type": "stream",
     "text": [
      "['thi', 'was', 'not', 'the', 'map', 'we', 'found', 'in', 'bil', 'bon', \"'s\", 'chest', ',', 'but', 'an', 'acc', 'cop', ',', 'complet', 'in', 'al', 'thing', '--', 'nam', 'and', 'height', 'and', 'sound', '--', 'with', 'the', 'singl', 'exceiv', 'of', 'the', 'red', 'cross', 'and', 'the', 'writ', 'not', '.']\n"
     ]
    }
   ],
   "source": [
    "print([f3(x) for x in t_sent])"
   ]
  },
  {
   "cell_type": "code",
   "execution_count": 24,
   "id": "094865d4",
   "metadata": {},
   "outputs": [],
   "source": [
    "from nltk.corpus import stopwords\n",
    "from nltk.tokenize import word_tokenize \n",
    "from konlpy.tag import Okt"
   ]
  },
  {
   "cell_type": "code",
   "execution_count": 25,
   "id": "52fc8990",
   "metadata": {},
   "outputs": [
    {
     "name": "stdout",
     "output_type": "stream",
     "text": [
      "불용어 개수 : 179\n",
      "불용어 10개 출력 : ['i', 'me', 'my', 'myself', 'we', 'our', 'ours', 'ourselves', 'you', \"you're\"]\n"
     ]
    }
   ],
   "source": [
    "stop_words_list = stopwords.words('english')\n",
    "print('불용어 개수 :', len(stop_words_list))\n",
    "print('불용어 10개 출력 :',stop_words_list[:10])"
   ]
  },
  {
   "cell_type": "code",
   "execution_count": 26,
   "id": "1f7d23cb",
   "metadata": {},
   "outputs": [
    {
     "data": {
      "text/plain": [
       "['I',\n",
       " 'am',\n",
       " 'actively',\n",
       " 'looking',\n",
       " 'for',\n",
       " 'Ph.D.',\n",
       " 'students',\n",
       " '.',\n",
       " 'and',\n",
       " 'you',\n",
       " 'are',\n",
       " 'a',\n",
       " 'Ph.D.',\n",
       " 'student',\n",
       " '.']"
      ]
     },
     "execution_count": 26,
     "metadata": {},
     "output_type": "execute_result"
    }
   ],
   "source": [
    "d=word_tokenize(t1)\n",
    "d"
   ]
  },
  {
   "cell_type": "code",
   "execution_count": 27,
   "id": "5c226724",
   "metadata": {},
   "outputs": [
    {
     "name": "stdout",
     "output_type": "stream",
     "text": [
      "['I', 'am', 'actively', 'looking', 'for', 'Ph.D.', 'students', '.', 'and', 'you', 'are', 'a', 'Ph.D.', 'student', '.']\n",
      "['I', 'actively', 'looking', 'Ph.D.', 'students', '.', 'Ph.D.', 'student', '.']\n"
     ]
    }
   ],
   "source": [
    "ck_d=stopwords.words('english')\n",
    "end_l=[]\n",
    "for i in d: #토큰화된 단어리스트에서\n",
    "    if i not in ck_d: #단어가 불용어 사전에 포감되면\n",
    "        end_l.append(i) #포함된 불용어 사전\n",
    "print(d,end_l,sep='\\n')"
   ]
  },
  {
   "cell_type": "code",
   "execution_count": 28,
   "id": "f9ace433",
   "metadata": {},
   "outputs": [
    {
     "data": {
      "text/plain": [
       "['이', '은', '요', '빠르게', '모르겠어요']"
      ]
     },
     "execution_count": 28,
     "metadata": {},
     "output_type": "execute_result"
    }
   ],
   "source": [
    "t_d='오늘은 몸이 아파요. 오늘은 강의 내용이 빠르게 진행이 되나요 모르겠어요'\n",
    "stop_t_d='이 은 요 빠르게 모르겠어요'.split()\n",
    "stop_t_d"
   ]
  },
  {
   "cell_type": "code",
   "execution_count": 29,
   "id": "335a5d19",
   "metadata": {},
   "outputs": [
    {
     "data": {
      "text/plain": [
       "['오늘',\n",
       " '은',\n",
       " '몸',\n",
       " '이',\n",
       " '아파요',\n",
       " '.',\n",
       " '오늘',\n",
       " '은',\n",
       " '강의',\n",
       " '내용',\n",
       " '이',\n",
       " '빠르게',\n",
       " '진행',\n",
       " '이',\n",
       " '되나요',\n",
       " '모르겠어요']"
      ]
     },
     "execution_count": 29,
     "metadata": {},
     "output_type": "execute_result"
    }
   ],
   "source": [
    "okt=Okt()\n",
    "t_dd=okt.morphs(t_d) #형태소 분리\n",
    "t_dd #"
   ]
  },
  {
   "cell_type": "code",
   "execution_count": 30,
   "id": "ae1f993c",
   "metadata": {},
   "outputs": [
    {
     "data": {
      "text/plain": [
       "['오늘', '몸', '아파요', '.', '오늘', '강의', '내용', '진행', '되나요']"
      ]
     },
     "execution_count": 30,
     "metadata": {},
     "output_type": "execute_result"
    }
   ],
   "source": [
    "end_d=[i for i in t_dd if not i in stop_t_d] #불용어 사전에 없는 단어일 경우 end_d 원소 추가하겠다.\n",
    "end_d #불용어 제거 후"
   ]
  },
  {
   "cell_type": "code",
   "execution_count": null,
   "id": "97a45476",
   "metadata": {},
   "outputs": [],
   "source": []
  }
 ],
 "metadata": {
  "kernelspec": {
   "display_name": "Python 3 (ipykernel)",
   "language": "python",
   "name": "python3"
  },
  "language_info": {
   "codemirror_mode": {
    "name": "ipython",
    "version": 3
   },
   "file_extension": ".py",
   "mimetype": "text/x-python",
   "name": "python",
   "nbconvert_exporter": "python",
   "pygments_lexer": "ipython3",
   "version": "3.9.7"
  }
 },
 "nbformat": 4,
 "nbformat_minor": 5
}
