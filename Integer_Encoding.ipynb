{
 "cells": [
  {
   "cell_type": "code",
   "execution_count": 1,
   "id": "030d8921",
   "metadata": {},
   "outputs": [],
   "source": [
    "from nltk.tokenize import sent_tokenize\n",
    "from nltk.tokenize import word_tokenize\n",
    "from nltk.corpus import stopwords"
   ]
  },
  {
   "cell_type": "markdown",
   "id": "2fd1e973",
   "metadata": {},
   "source": [
    "# 정수인코딩(사전+빈도수)"
   ]
  },
  {
   "cell_type": "markdown",
   "id": "9f90cd35",
   "metadata": {},
   "source": [
    "## 데이터수집"
   ]
  },
  {
   "cell_type": "code",
   "execution_count": 2,
   "id": "b4d60810",
   "metadata": {},
   "outputs": [],
   "source": [
    "text = \"A barber is a person. a barber is good person. a barber is huge person. he Knew A Secret! The Secret He Kept is huge secret. Huge secret. His barber kept his word. a barber kept his word. His barber kept his secret. But keeping and keeping such a huge secret to himself was driving the barber crazy. the barber went up a huge mountain.\""
   ]
  },
  {
   "cell_type": "markdown",
   "id": "3ace8de2",
   "metadata": {},
   "source": [
    "데이터 전처리(문장 토큰화) 1.토큰화 2.정제 3.정규화"
   ]
  },
  {
   "cell_type": "code",
   "execution_count": 3,
   "id": "cb1d0738",
   "metadata": {},
   "outputs": [
    {
     "data": {
      "text/plain": [
       "['A barber is a person.',\n",
       " 'a barber is good person.',\n",
       " 'a barber is huge person.',\n",
       " 'he Knew A Secret!',\n",
       " 'The Secret He Kept is huge secret.',\n",
       " 'Huge secret.',\n",
       " 'His barber kept his word.',\n",
       " 'a barber kept his word.',\n",
       " 'His barber kept his secret.',\n",
       " 'But keeping and keeping such a huge secret to himself was driving the barber crazy.',\n",
       " 'the barber went up a huge mountain.']"
      ]
     },
     "execution_count": 3,
     "metadata": {},
     "output_type": "execute_result"
    }
   ],
   "source": [
    "문장_토큰화_리스트=sent_tokenize(text)\n",
    "문장_토큰화_리스트"
   ]
  },
  {
   "cell_type": "markdown",
   "id": "6afc182f",
   "metadata": {},
   "source": [
    "데이터 전처리(단어 토큰화)"
   ]
  },
  {
   "cell_type": "code",
   "execution_count": 4,
   "id": "17e13278",
   "metadata": {},
   "outputs": [
    {
     "data": {
      "text/plain": [
       "[['barber', 'person'],\n",
       " ['barber', 'good', 'person'],\n",
       " ['barber', 'huge', 'person'],\n",
       " ['knew', 'secret'],\n",
       " ['secret', 'kept', 'huge', 'secret'],\n",
       " ['huge', 'secret'],\n",
       " ['barber', 'kept', 'word'],\n",
       " ['barber', 'kept', 'word'],\n",
       " ['barber', 'kept', 'secret'],\n",
       " ['keeping', 'keeping', 'huge', 'secret', 'driving', 'barber', 'crazy'],\n",
       " ['barber', 'went', 'huge', 'mountain']]"
      ]
     },
     "execution_count": 4,
     "metadata": {},
     "output_type": "execute_result"
    }
   ],
   "source": [
    "단어_모음={} #정수 인코딩(맵핑)하기 위한 빈도수 딕셔너리\n",
    "pr_data=[]\n",
    "불용성단어 = set(stopwords.words('english'))\n",
    "for 문장 in 문장_토큰화_리스트: #한 문장식\n",
    "    단어_토큰화_리스트 = word_tokenize(문장)\n",
    "    l=[]\n",
    "    for 단어 in 단어_토큰화_리스트:\n",
    "        소문자화_된_단어 = 단어.lower() # 정규화2\n",
    "        if 소문자화_된_단어 not in 불용성단어:\n",
    "            if len(소문자화_된_단어) > 2: #단어수 2이하 제거. 노이즈제거\n",
    "                l.append(소문자화_된_단어)# 전처리된 단어\n",
    "                if 소문자화_된_단어 not in 단어_모음:\n",
    "                    단어_모음[소문자화_된_단어] = 0 #빈도수 딕셔너리에 단어 초기화\n",
    "                단어_모음[소문자화_된_단어]+=1\n",
    "    #한 문장을 다 돌았다면 문장 전처리 단어 l을 pr_data에 추가\n",
    "    pr_data.append(l)\n",
    "pr_data"
   ]
  },
  {
   "cell_type": "code",
   "execution_count": 5,
   "id": "1132d7e0",
   "metadata": {},
   "outputs": [
    {
     "data": {
      "text/plain": [
       "{'barber': 8,\n",
       " 'person': 3,\n",
       " 'good': 1,\n",
       " 'huge': 5,\n",
       " 'knew': 1,\n",
       " 'secret': 6,\n",
       " 'kept': 4,\n",
       " 'word': 2,\n",
       " 'keeping': 2,\n",
       " 'driving': 1,\n",
       " 'crazy': 1,\n",
       " 'went': 1,\n",
       " 'mountain': 1}"
      ]
     },
     "execution_count": 5,
     "metadata": {},
     "output_type": "execute_result"
    }
   ],
   "source": [
    "단어_모음 #빈도수 딕셔너리"
   ]
  },
  {
   "cell_type": "code",
   "execution_count": 6,
   "id": "1dcfe8da",
   "metadata": {},
   "outputs": [],
   "source": [
    "정렬된_단어_모음= sorted(단어_모음.items(),key = lambda x:x[1],reverse=True) #내림차순"
   ]
  },
  {
   "cell_type": "code",
   "execution_count": 7,
   "id": "b1220f72",
   "metadata": {},
   "outputs": [
    {
     "data": {
      "text/plain": [
       "[('barber', 8),\n",
       " ('secret', 6),\n",
       " ('huge', 5),\n",
       " ('kept', 4),\n",
       " ('person', 3),\n",
       " ('word', 2),\n",
       " ('keeping', 2),\n",
       " ('good', 1),\n",
       " ('knew', 1),\n",
       " ('driving', 1),\n",
       " ('crazy', 1),\n",
       " ('went', 1),\n",
       " ('mountain', 1)]"
      ]
     },
     "execution_count": 7,
     "metadata": {},
     "output_type": "execute_result"
    }
   ],
   "source": [
    "정렬된_단어_모음"
   ]
  },
  {
   "cell_type": "code",
   "execution_count": 8,
   "id": "5e354234",
   "metadata": {},
   "outputs": [
    {
     "data": {
      "text/plain": [
       "{'barber': 1,\n",
       " 'secret': 2,\n",
       " 'huge': 3,\n",
       " 'kept': 4,\n",
       " 'person': 5,\n",
       " 'word': 6,\n",
       " 'keeping': 7}"
      ]
     },
     "execution_count": 8,
     "metadata": {},
     "output_type": "execute_result"
    }
   ],
   "source": [
    "# 정수_인코딩\n",
    "단어_인덱스={}\n",
    "i=0\n",
    "for (단어,빈도수) in 정렬된_단어_모음:\n",
    "    if 빈도수>1:#빈도수 1이하 제거. 정규화3-2\n",
    "        i+=1\n",
    "        단어_인덱스[단어]=i #정수 부여\n",
    "단어_인덱스     "
   ]
  },
  {
   "cell_type": "code",
   "execution_count": 9,
   "id": "e6bb8c3e",
   "metadata": {},
   "outputs": [
    {
     "data": {
      "text/plain": [
       "{'barber': 1, 'secret': 2, 'huge': 3, 'kept': 4}"
      ]
     },
     "execution_count": 9,
     "metadata": {},
     "output_type": "execute_result"
    }
   ],
   "source": [
    "n=4 #빈도수가 높은 상위 4개 단어로만 맵핑\n",
    "삭제_결정된_data=[단어 for 단어,i in 단어_인덱스.items() if i>n] #정슈가 4이상인 단어들\n",
    "for i in 삭제_결정된_data:\n",
    "    del 단어_인덱스[i]\n",
    "단어_인덱스"
   ]
  },
  {
   "cell_type": "code",
   "execution_count": 10,
   "id": "31bae7de",
   "metadata": {},
   "outputs": [
    {
     "data": {
      "text/plain": [
       "{'barber': 1, 'secret': 2, 'huge': 3, 'kept': 4, 'OOV': 5}"
      ]
     },
     "execution_count": 10,
     "metadata": {},
     "output_type": "execute_result"
    }
   ],
   "source": [
    "단어_인덱스['OOV']=len(단어_인덱스)+1\n",
    "단어_인덱스"
   ]
  },
  {
   "cell_type": "code",
   "execution_count": 11,
   "id": "472a3a73",
   "metadata": {},
   "outputs": [
    {
     "data": {
      "text/plain": [
       "[['barber', 'person'],\n",
       " ['barber', 'good', 'person'],\n",
       " ['barber', 'huge', 'person'],\n",
       " ['knew', 'secret'],\n",
       " ['secret', 'kept', 'huge', 'secret'],\n",
       " ['huge', 'secret'],\n",
       " ['barber', 'kept', 'word'],\n",
       " ['barber', 'kept', 'word'],\n",
       " ['barber', 'kept', 'secret'],\n",
       " ['keeping', 'keeping', 'huge', 'secret', 'driving', 'barber', 'crazy'],\n",
       " ['barber', 'went', 'huge', 'mountain']]"
      ]
     },
     "execution_count": 11,
     "metadata": {},
     "output_type": "execute_result"
    }
   ],
   "source": [
    "pr_data"
   ]
  },
  {
   "cell_type": "code",
   "execution_count": 12,
   "id": "42f01a23",
   "metadata": {},
   "outputs": [
    {
     "data": {
      "text/plain": [
       "[[1, 5],\n",
       " [1, 5, 5],\n",
       " [1, 3, 5],\n",
       " [5, 2],\n",
       " [2, 4, 3, 2],\n",
       " [3, 2],\n",
       " [1, 4, 5],\n",
       " [1, 4, 5],\n",
       " [1, 4, 2],\n",
       " [5, 5, 3, 2, 5, 1, 5],\n",
       " [1, 5, 3, 5]]"
      ]
     },
     "execution_count": 12,
     "metadata": {},
     "output_type": "execute_result"
    }
   ],
   "source": [
    "ec_data=[]\n",
    "for i in pr_data: #전체 토큰화 단어\n",
    "    ec_d=[]\n",
    "    for 단어 in i:\n",
    "        try:\n",
    "            ec_d.append(단어_인덱스[단어]) #한 문장의 토큰화 리스트를 리스트에[ 추가]\n",
    "        except KeyError:\n",
    "            ec_d.append(단어_인덱스['OOV']) #없을 경우 가장 잔은 가중치의 value값\n",
    "    ec_data.append(ec_d)\n",
    "ec_data"
   ]
  },
  {
   "cell_type": "markdown",
   "id": "d33ac269",
   "metadata": {},
   "source": [
    "## Counter기반 정수 인코딩"
   ]
  },
  {
   "cell_type": "code",
   "execution_count": 13,
   "id": "897c67c4",
   "metadata": {},
   "outputs": [],
   "source": [
    "from collections import Counter"
   ]
  },
  {
   "cell_type": "code",
   "execution_count": 14,
   "id": "54050665",
   "metadata": {},
   "outputs": [
    {
     "data": {
      "text/plain": [
       "[['barber', 'person'],\n",
       " ['barber', 'good', 'person'],\n",
       " ['barber', 'huge', 'person'],\n",
       " ['knew', 'secret'],\n",
       " ['secret', 'kept', 'huge', 'secret'],\n",
       " ['huge', 'secret'],\n",
       " ['barber', 'kept', 'word'],\n",
       " ['barber', 'kept', 'word'],\n",
       " ['barber', 'kept', 'secret'],\n",
       " ['keeping', 'keeping', 'huge', 'secret', 'driving', 'barber', 'crazy'],\n",
       " ['barber', 'went', 'huge', 'mountain']]"
      ]
     },
     "execution_count": 14,
     "metadata": {},
     "output_type": "execute_result"
    }
   ],
   "source": [
    "pr_data #텍스트->문장=>단어"
   ]
  },
  {
   "cell_type": "code",
   "execution_count": 15,
   "id": "951d09dc",
   "metadata": {},
   "outputs": [],
   "source": [
    "## sum([[1,2,3],[4,5,6]],[]) 리스트 연산"
   ]
  },
  {
   "cell_type": "code",
   "execution_count": 16,
   "id": "8512cc7a",
   "metadata": {},
   "outputs": [
    {
     "data": {
      "text/plain": [
       "['barber',\n",
       " 'person',\n",
       " 'barber',\n",
       " 'good',\n",
       " 'person',\n",
       " 'barber',\n",
       " 'huge',\n",
       " 'person',\n",
       " 'knew',\n",
       " 'secret',\n",
       " 'secret',\n",
       " 'kept',\n",
       " 'huge',\n",
       " 'secret',\n",
       " 'huge',\n",
       " 'secret',\n",
       " 'barber',\n",
       " 'kept',\n",
       " 'word',\n",
       " 'barber',\n",
       " 'kept',\n",
       " 'word',\n",
       " 'barber',\n",
       " 'kept',\n",
       " 'secret',\n",
       " 'keeping',\n",
       " 'keeping',\n",
       " 'huge',\n",
       " 'secret',\n",
       " 'driving',\n",
       " 'barber',\n",
       " 'crazy',\n",
       " 'barber',\n",
       " 'went',\n",
       " 'huge',\n",
       " 'mountain']"
      ]
     },
     "execution_count": 16,
     "metadata": {},
     "output_type": "execute_result"
    }
   ],
   "source": [
    "단어_모음집 = sum(pr_data,[]) #일차원 리스트\n",
    "단어_모음집"
   ]
  },
  {
   "cell_type": "code",
   "execution_count": 17,
   "id": "881bb4b2",
   "metadata": {},
   "outputs": [
    {
     "data": {
      "text/plain": [
       "Counter({'barber': 8,\n",
       "         'person': 3,\n",
       "         'good': 1,\n",
       "         'huge': 5,\n",
       "         'knew': 1,\n",
       "         'secret': 6,\n",
       "         'kept': 4,\n",
       "         'word': 2,\n",
       "         'keeping': 2,\n",
       "         'driving': 1,\n",
       "         'crazy': 1,\n",
       "         'went': 1,\n",
       "         'mountain': 1})"
      ]
     },
     "execution_count": 17,
     "metadata": {},
     "output_type": "execute_result"
    }
   ],
   "source": [
    "결과_단어_모음집=Counter(단어_모음집) #중복은제고 단어의 빈도수를 기록\n",
    "결과_단어_모음집"
   ]
  },
  {
   "cell_type": "code",
   "execution_count": 18,
   "id": "f05e7e36",
   "metadata": {},
   "outputs": [
    {
     "data": {
      "text/plain": [
       "[('barber', 8), ('secret', 6), ('huge', 5), ('kept', 4)]"
      ]
     },
     "execution_count": 18,
     "metadata": {},
     "output_type": "execute_result"
    }
   ],
   "source": [
    "top=4 #빈도수중 상위 5개 \n",
    "빈도수별_단어=결과_단어_모음집.most_common(top)\n",
    "빈도수별_단어"
   ]
  },
  {
   "cell_type": "code",
   "execution_count": 19,
   "id": "29bd4587",
   "metadata": {},
   "outputs": [
    {
     "data": {
      "text/plain": [
       "{'barber': 1, 'secret': 2, 'huge': 3, 'kept': 4}"
      ]
     },
     "execution_count": 19,
     "metadata": {},
     "output_type": "execute_result"
    }
   ],
   "source": [
    "단어_인덱스2={} #빈도수가 높을 수록 낮은 정수 인덱스 부여\n",
    "i=0\n",
    "for 단어,빈도수 in 빈도수별_단어:\n",
    "    i+=1\n",
    "    단어_인덱스2[단어]=i\n",
    "단어_인덱스2"
   ]
  },
  {
   "cell_type": "code",
   "execution_count": 20,
   "id": "19ece061",
   "metadata": {},
   "outputs": [
    {
     "data": {
      "text/plain": [
       "{'barber': 1, 'secret': 2, 'huge': 3, 'kept': 4, 'OOV': 5}"
      ]
     },
     "execution_count": 20,
     "metadata": {},
     "output_type": "execute_result"
    }
   ],
   "source": [
    "단어_인덱스2['OOV']=len(단어_인덱스2)+1\n",
    "단어_인덱스2"
   ]
  },
  {
   "cell_type": "markdown",
   "id": "808f1bb1",
   "metadata": {},
   "source": [
    "NLTk 정수인코딩"
   ]
  },
  {
   "cell_type": "code",
   "execution_count": 21,
   "id": "59b4680d",
   "metadata": {},
   "outputs": [],
   "source": [
    "from nltk import FreqDist\n",
    "import numpy as np"
   ]
  },
  {
   "cell_type": "code",
   "execution_count": 22,
   "id": "8c084060",
   "metadata": {},
   "outputs": [
    {
     "data": {
      "text/plain": [
       "[['barber', 'person'],\n",
       " ['barber', 'good', 'person'],\n",
       " ['barber', 'huge', 'person'],\n",
       " ['knew', 'secret'],\n",
       " ['secret', 'kept', 'huge', 'secret'],\n",
       " ['huge', 'secret'],\n",
       " ['barber', 'kept', 'word'],\n",
       " ['barber', 'kept', 'word'],\n",
       " ['barber', 'kept', 'secret'],\n",
       " ['keeping', 'keeping', 'huge', 'secret', 'driving', 'barber', 'crazy'],\n",
       " ['barber', 'went', 'huge', 'mountain']]"
      ]
     },
     "execution_count": 22,
     "metadata": {},
     "output_type": "execute_result"
    }
   ],
   "source": [
    "pr_data"
   ]
  },
  {
   "cell_type": "code",
   "execution_count": 23,
   "id": "ff45d5be",
   "metadata": {},
   "outputs": [
    {
     "data": {
      "text/plain": [
       "FreqDist({'barber': 8, 'secret': 6, 'huge': 5, 'kept': 4, 'person': 3, 'word': 2, 'keeping': 2, 'good': 1, 'knew': 1, 'driving': 1, ...})"
      ]
     },
     "execution_count": 23,
     "metadata": {},
     "output_type": "execute_result"
    }
   ],
   "source": [
    "단어_모음=FreqDist(np.hstack(pr_data)) #빈도수 계산 도구 =Counter랑 비슷\n",
    "단어_모음 #각 원소(리스트)에 대해 옆으로 붙이기"
   ]
  },
  {
   "cell_type": "code",
   "execution_count": 24,
   "id": "a0827c4a",
   "metadata": {},
   "outputs": [
    {
     "data": {
      "text/plain": [
       "[('barber', 8), ('secret', 6), ('huge', 5), ('kept', 4)]"
      ]
     },
     "execution_count": 24,
     "metadata": {},
     "output_type": "execute_result"
    }
   ],
   "source": [
    "단어_모음=단어_모음.most_common(4)\n",
    "단어_모음"
   ]
  },
  {
   "cell_type": "code",
   "execution_count": 25,
   "id": "368c6fe7",
   "metadata": {},
   "outputs": [
    {
     "name": "stdout",
     "output_type": "stream",
     "text": [
      "{'barber': 1, 'secret': 2, 'huge': 3, 'kept': 4}\n"
     ]
    }
   ],
   "source": [
    "정수_인덱스3 = {word[0] : index + 1 for index, word in enumerate(단어_모음)}\n",
    "print(정수_인덱스3)"
   ]
  },
  {
   "cell_type": "code",
   "execution_count": 26,
   "id": "7ee5993b",
   "metadata": {},
   "outputs": [
    {
     "data": {
      "text/plain": [
       "[['barber', 'person'],\n",
       " ['barber', 'good', 'person'],\n",
       " ['barber', 'huge', 'person'],\n",
       " ['knew', 'secret'],\n",
       " ['secret', 'kept', 'huge', 'secret'],\n",
       " ['huge', 'secret'],\n",
       " ['barber', 'kept', 'word'],\n",
       " ['barber', 'kept', 'word'],\n",
       " ['barber', 'kept', 'secret'],\n",
       " ['keeping', 'keeping', 'huge', 'secret', 'driving', 'barber', 'crazy'],\n",
       " ['barber', 'went', 'huge', 'mountain']]"
      ]
     },
     "execution_count": 26,
     "metadata": {},
     "output_type": "execute_result"
    }
   ],
   "source": [
    "from tensorflow.keras.preprocessing.text import Tokenizer\n",
    "pr_data"
   ]
  },
  {
   "cell_type": "code",
   "execution_count": 27,
   "id": "225d1019",
   "metadata": {},
   "outputs": [
    {
     "name": "stdout",
     "output_type": "stream",
     "text": [
      "{'barber': 1, 'secret': 2, 'huge': 3, 'kept': 4, 'person': 5, 'word': 6, 'keeping': 7, 'good': 8, 'knew': 9, 'driving': 10, 'crazy': 11, 'went': 12, 'mountain': 13}\n"
     ]
    }
   ],
   "source": [
    "ck_t=Tokenizer()\n",
    "ck_t.fit_on_texts(pr_data)\n",
    "# fit_on_texts()안에 코퍼스를 입력으로 하면 빈도수 높은 순으로 낮은 정수 인덱스를 부여하며 단어 집합을 생성.\n",
    "#이미 컴파일 했다.\n",
    "print(ck_t.word_index) #생성된 정수_인덱스"
   ]
  },
  {
   "cell_type": "code",
   "execution_count": 28,
   "id": "c252cc61",
   "metadata": {},
   "outputs": [
    {
     "data": {
      "text/plain": [
       "OrderedDict([('barber', 8),\n",
       "             ('person', 3),\n",
       "             ('good', 1),\n",
       "             ('huge', 5),\n",
       "             ('knew', 1),\n",
       "             ('secret', 6),\n",
       "             ('kept', 4),\n",
       "             ('word', 2),\n",
       "             ('keeping', 2),\n",
       "             ('driving', 1),\n",
       "             ('crazy', 1),\n",
       "             ('went', 1),\n",
       "             ('mountain', 1)])"
      ]
     },
     "execution_count": 28,
     "metadata": {},
     "output_type": "execute_result"
    }
   ],
   "source": [
    "ck_t.word_counts"
   ]
  },
  {
   "cell_type": "code",
   "execution_count": 29,
   "id": "b846cca1",
   "metadata": {},
   "outputs": [
    {
     "data": {
      "text/plain": [
       "[[1, 5],\n",
       " [1, 8, 5],\n",
       " [1, 3, 5],\n",
       " [9, 2],\n",
       " [2, 4, 3, 2],\n",
       " [3, 2],\n",
       " [1, 4, 6],\n",
       " [1, 4, 6],\n",
       " [1, 4, 2],\n",
       " [7, 7, 3, 2, 10, 1, 11],\n",
       " [1, 12, 3, 13]]"
      ]
     },
     "execution_count": 29,
     "metadata": {},
     "output_type": "execute_result"
    }
   ],
   "source": [
    "ck_t.texts_to_sequences(pr_data) #컴파일된 정수 인덱스 사전으로 각 단어를 이미 정해진 인덱스로 변환"
   ]
  },
  {
   "cell_type": "code",
   "execution_count": 30,
   "id": "25d9cdd6",
   "metadata": {},
   "outputs": [
    {
     "data": {
      "text/plain": [
       "[[2, 1],\n",
       " [2, 1, 1],\n",
       " [2, 4, 1],\n",
       " [1, 3],\n",
       " [3, 5, 4, 3],\n",
       " [4, 3],\n",
       " [2, 5, 1],\n",
       " [2, 5, 1],\n",
       " [2, 5, 3],\n",
       " [1, 1, 4, 3, 1, 2, 1],\n",
       " [2, 1, 4, 1]]"
      ]
     },
     "execution_count": 30,
     "metadata": {},
     "output_type": "execute_result"
    }
   ],
   "source": [
    "from tensorflow.keras.preprocessing.text import Tokenizer\n",
    "n=4 #상위 4개만 사용하겠다.\n",
    "end_ck=Tokenizer(num_words=n+2,oov_token='OOV')\n",
    "#첫 번째 인자 빈도수 지정1~6 \n",
    "end_ck.fit_on_texts(pr_data)  #정수 인덱스 사전\n",
    "end_ck.texts_to_sequences(pr_data) #맵핑"
   ]
  },
  {
   "cell_type": "code",
   "execution_count": 33,
   "id": "dd6f20fe",
   "metadata": {},
   "outputs": [
    {
     "data": {
      "text/plain": [
       "{'OOV': 1,\n",
       " 'barber': 2,\n",
       " 'secret': 3,\n",
       " 'huge': 4,\n",
       " 'kept': 5,\n",
       " 'person': 6,\n",
       " 'word': 7,\n",
       " 'keeping': 8,\n",
       " 'good': 9,\n",
       " 'knew': 10,\n",
       " 'driving': 11,\n",
       " 'crazy': 12,\n",
       " 'went': 13,\n",
       " 'mountain': 14}"
      ]
     },
     "execution_count": 33,
     "metadata": {},
     "output_type": "execute_result"
    }
   ],
   "source": [
    "end_ck.word_index"
   ]
  },
  {
   "cell_type": "code",
   "execution_count": null,
   "id": "81b17d18",
   "metadata": {},
   "outputs": [],
   "source": []
  }
 ],
 "metadata": {
  "kernelspec": {
   "display_name": "Python 3 (ipykernel)",
   "language": "python",
   "name": "python3"
  },
  "language_info": {
   "codemirror_mode": {
    "name": "ipython",
    "version": 3
   },
   "file_extension": ".py",
   "mimetype": "text/x-python",
   "name": "python",
   "nbconvert_exporter": "python",
   "pygments_lexer": "ipython3",
   "version": "3.9.7"
  }
 },
 "nbformat": 4,
 "nbformat_minor": 5
}
