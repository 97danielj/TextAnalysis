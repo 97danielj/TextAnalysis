{
 "cells": [
  {
   "cell_type": "code",
   "execution_count": 4,
   "id": "f4b4975a",
   "metadata": {},
   "outputs": [],
   "source": [
    "from nltk.tokenize import sent_tokenize #문장 토큰화 함수\n",
    "from nltk.tokenize import word_tokenize\n",
    "from nltk.corpus import stopwords"
   ]
  },
  {
   "cell_type": "markdown",
   "id": "7d71ce2c",
   "metadata": {},
   "source": [
    "사전 기반 정수 인코딩"
   ]
  },
  {
   "cell_type": "markdown",
   "id": "d5308d07",
   "metadata": {},
   "source": [
    "데이터수집"
   ]
  },
  {
   "cell_type": "code",
   "execution_count": 5,
   "id": "6c4ed309",
   "metadata": {},
   "outputs": [],
   "source": [
    "text = \"A barber is a person. a barber is good person. a barber is huge person. he Knew A Secret! The Secret He Kept is huge secret. Huge secret. His barber kept his word. a barber kept his word. His barber kept his secret. But keeping and keeping such a huge secret to himself was driving the barber crazy. the barber went up a huge mountain.\""
   ]
  },
  {
   "cell_type": "markdown",
   "id": "7f38897c",
   "metadata": {},
   "source": [
    "데이터 전처리(문장 토큰화)"
   ]
  },
  {
   "cell_type": "code",
   "execution_count": 6,
   "id": "42e042e5",
   "metadata": {},
   "outputs": [],
   "source": [
    "data1 = sent_tokenize(text)"
   ]
  },
  {
   "cell_type": "markdown",
   "id": "c82f687b",
   "metadata": {},
   "source": [
    "데이터 전처리(단어 토큰화)"
   ]
  },
  {
   "cell_type": "code",
   "execution_count": 12,
   "id": "d0d5efdd",
   "metadata": {},
   "outputs": [
    {
     "data": {
      "text/plain": [
       "[['barber', 'person'],\n",
       " ['barber', 'good', 'person'],\n",
       " ['barber', 'huge', 'person'],\n",
       " ['knew', 'secret'],\n",
       " ['secret', 'kept', 'huge', 'secret'],\n",
       " ['huge', 'secret'],\n",
       " ['barber', 'kept', 'word'],\n",
       " ['barber', 'kept', 'word'],\n",
       " ['barber', 'kept', 'secret'],\n",
       " ['keeping', 'keeping', 'huge', 'secret', 'driving', 'barber', 'crazy'],\n",
       " ['barber', 'went', 'huge', 'mountain']]"
      ]
     },
     "execution_count": 12,
     "metadata": {},
     "output_type": "execute_result"
    }
   ],
   "source": [
    "단어_모음={}\n",
    "pr_data=[]\n",
    "stop_w=set(stopwords.words('english'))\n",
    "for 문장 in data1:\n",
    "    t_data=word_tokenize(문장)\n",
    "    l=[]\n",
    "    for 단어 in t_data:\n",
    "        단어=단어.lower()\n",
    "        if 단어 not in stop_w:\n",
    "            if len(단어) >2: #단어수 2이하 제고\n",
    "                l.append(단어) #전처리된 단어\n",
    "                if 단어 not in 단어_모음:\n",
    "                    단어_모음[단어]=0 #단어가 단어 사전에 없으면 초가회\n",
    "                단어_모음[단어]+=1\n",
    "    pr_data.append(l)\n",
    "pr_data\n",
    "        "
   ]
  },
  {
   "cell_type": "code",
   "execution_count": 13,
   "id": "9447d0c1",
   "metadata": {},
   "outputs": [
    {
     "data": {
      "text/plain": [
       "{'barber': 8,\n",
       " 'person': 3,\n",
       " 'good': 1,\n",
       " 'huge': 5,\n",
       " 'knew': 1,\n",
       " 'secret': 6,\n",
       " 'kept': 4,\n",
       " 'word': 2,\n",
       " 'keeping': 2,\n",
       " 'driving': 1,\n",
       " 'crazy': 1,\n",
       " 'went': 1,\n",
       " 'mountain': 1}"
      ]
     },
     "execution_count": 13,
     "metadata": {},
     "output_type": "execute_result"
    }
   ],
   "source": [
    "단어_모음"
   ]
  },
  {
   "cell_type": "code",
   "execution_count": 16,
   "id": "a1e74ce8",
   "metadata": {},
   "outputs": [
    {
     "data": {
      "text/plain": [
       "[('barber', 8),\n",
       " ('secret', 6),\n",
       " ('huge', 5),\n",
       " ('kept', 4),\n",
       " ('person', 3),\n",
       " ('word', 2),\n",
       " ('keeping', 2),\n",
       " ('good', 1),\n",
       " ('knew', 1),\n",
       " ('driving', 1),\n",
       " ('crazy', 1),\n",
       " ('went', 1),\n",
       " ('mountain', 1)]"
      ]
     },
     "execution_count": 16,
     "metadata": {},
     "output_type": "execute_result"
    }
   ],
   "source": [
    "정렬된_단어_모음 = sorted(단어_모음.items(), key=lambda x:x[1],reverse=True)\n",
    "정렬된_단어_모음"
   ]
  },
  {
   "cell_type": "code",
   "execution_count": 20,
   "id": "73f76a4a",
   "metadata": {},
   "outputs": [
    {
     "data": {
      "text/plain": [
       "{'barber': 1,\n",
       " 'secret': 2,\n",
       " 'huge': 3,\n",
       " 'kept': 4,\n",
       " 'person': 5,\n",
       " 'word': 6,\n",
       " 'keeping': 7}"
      ]
     },
     "execution_count": 20,
     "metadata": {},
     "output_type": "execute_result"
    }
   ],
   "source": [
    "단어_인덱스 = {}\n",
    "i=0\n",
    "for (단어, 빈도수) in 정렬된_단어_모음:\n",
    "        if 빈도수>1: #빈도수 1이하 제거\n",
    "            i+=1\n",
    "            단어_인덱스[단어]=i\n",
    "단어_인덱스"
   ]
  },
  {
   "cell_type": "code",
   "execution_count": null,
   "id": "1490c085",
   "metadata": {},
   "outputs": [],
   "source": [
    "n=4\n",
    "결정된_data = [i fir i in 단어_인덱스]"
   ]
  }
 ],
 "metadata": {
  "kernelspec": {
   "display_name": "Python 3 (ipykernel)",
   "language": "python",
   "name": "python3"
  },
  "language_info": {
   "codemirror_mode": {
    "name": "ipython",
    "version": 3
   },
   "file_extension": ".py",
   "mimetype": "text/x-python",
   "name": "python",
   "nbconvert_exporter": "python",
   "pygments_lexer": "ipython3",
   "version": "3.9.7"
  }
 },
 "nbformat": 4,
 "nbformat_minor": 5
}
